{
 "cells": [
  {
   "cell_type": "code",
   "execution_count": 1,
   "metadata": {},
   "outputs": [
    {
     "name": "stderr",
     "output_type": "stream",
     "text": [
      "[nltk_data] Downloading package stopwords to\n",
      "[nltk_data]     C:\\Users\\Ali\\AppData\\Roaming\\nltk_data...\n",
      "[nltk_data]   Package stopwords is already up-to-date!\n",
      "[nltk_data] Downloading package wordnet to\n",
      "[nltk_data]     C:\\Users\\Ali\\AppData\\Roaming\\nltk_data...\n",
      "[nltk_data]   Package wordnet is already up-to-date!\n",
      "[nltk_data] Downloading package omw-1.4 to\n",
      "[nltk_data]     C:\\Users\\Ali\\AppData\\Roaming\\nltk_data...\n",
      "[nltk_data]   Package omw-1.4 is already up-to-date!\n"
     ]
    }
   ],
   "source": [
    "import re\n",
    "from string import punctuation\n",
    "\n",
    "import matplotlib.pyplot as plt\n",
    "import nltk\n",
    "import numpy as np\n",
    "import pandas as pd\n",
    "import seaborn as sns\n",
    "from nltk.corpus import stopwords\n",
    "from nltk.stem import WordNetLemmatizer\n",
    "from sklearn.ensemble import GradientBoostingClassifier\n",
    "from sklearn.metrics import accuracy_score, classification_report\n",
    "from sklearn.model_selection import train_test_split\n",
    "from wordcloud import WordCloud\n",
    "\n",
    "for dependency in (\n",
    "    \"stopwords\",\n",
    "    \"wordnet\",\n",
    "    \"omw-1.4\",\n",
    "):\n",
    "    nltk.download(dependency)"
   ]
  },
  {
   "cell_type": "code",
   "execution_count": 2,
   "metadata": {},
   "outputs": [
    {
     "data": {
      "text/html": [
       "<div>\n",
       "<style scoped>\n",
       "    .dataframe tbody tr th:only-of-type {\n",
       "        vertical-align: middle;\n",
       "    }\n",
       "\n",
       "    .dataframe tbody tr th {\n",
       "        vertical-align: top;\n",
       "    }\n",
       "\n",
       "    .dataframe thead th {\n",
       "        text-align: right;\n",
       "    }\n",
       "</style>\n",
       "<table border=\"1\" class=\"dataframe\">\n",
       "  <thead>\n",
       "    <tr style=\"text-align: right;\">\n",
       "      <th></th>\n",
       "      <th>Title</th>\n",
       "      <th>reviews</th>\n",
       "      <th>stars</th>\n",
       "    </tr>\n",
       "  </thead>\n",
       "  <tbody>\n",
       "    <tr>\n",
       "      <th>0</th>\n",
       "      <td>I have been using Advance America for…</td>\n",
       "      <td>I have been using Advance America for years. I...</td>\n",
       "      <td>5</td>\n",
       "    </tr>\n",
       "    <tr>\n",
       "      <th>1</th>\n",
       "      <td>I had originally gone to Hoover and…</td>\n",
       "      <td>I had originally gone to Hoover and Homewood w...</td>\n",
       "      <td>5</td>\n",
       "    </tr>\n",
       "    <tr>\n",
       "      <th>2</th>\n",
       "      <td>Prompt &amp; Courteous</td>\n",
       "      <td>I call ahead and talk to the manager Rochelle ...</td>\n",
       "      <td>5</td>\n",
       "    </tr>\n",
       "    <tr>\n",
       "      <th>3</th>\n",
       "      <td>The girls working here were extremely…</td>\n",
       "      <td>The girls working here were extremely helpful ...</td>\n",
       "      <td>5</td>\n",
       "    </tr>\n",
       "    <tr>\n",
       "      <th>4</th>\n",
       "      <td>I always enjoy going to this location…</td>\n",
       "      <td>I always enjoy going to this location the ladi...</td>\n",
       "      <td>5</td>\n",
       "    </tr>\n",
       "  </tbody>\n",
       "</table>\n",
       "</div>"
      ],
      "text/plain": [
       "                                    Title  \\\n",
       "0  I have been using Advance America for…   \n",
       "1    I had originally gone to Hoover and…   \n",
       "2                      Prompt & Courteous   \n",
       "3  The girls working here were extremely…   \n",
       "4  I always enjoy going to this location…   \n",
       "\n",
       "                                             reviews  stars  \n",
       "0  I have been using Advance America for years. I...      5  \n",
       "1  I had originally gone to Hoover and Homewood w...      5  \n",
       "2  I call ahead and talk to the manager Rochelle ...      5  \n",
       "3  The girls working here were extremely helpful ...      5  \n",
       "4  I always enjoy going to this location the ladi...      5  "
      ]
     },
     "execution_count": 2,
     "metadata": {},
     "output_type": "execute_result"
    }
   ],
   "source": [
    "dataset = pd.read_csv('data/01-advance.csv')\n",
    "dataset.head()"
   ]
  },
  {
   "cell_type": "code",
   "execution_count": 3,
   "metadata": {},
   "outputs": [
    {
     "data": {
      "text/plain": [
       "(11536, 3)"
      ]
     },
     "execution_count": 3,
     "metadata": {},
     "output_type": "execute_result"
    }
   ],
   "source": [
    "dataset.shape"
   ]
  },
  {
   "cell_type": "code",
   "execution_count": 4,
   "metadata": {},
   "outputs": [
    {
     "data": {
      "text/plain": [
       "Title      0\n",
       "reviews    0\n",
       "stars      0\n",
       "dtype: int64"
      ]
     },
     "execution_count": 4,
     "metadata": {},
     "output_type": "execute_result"
    }
   ],
   "source": [
    "dataset.isnull().sum()"
   ]
  },
  {
   "cell_type": "code",
   "execution_count": 5,
   "metadata": {},
   "outputs": [],
   "source": [
    "#Selecting Required Columns:\n",
    "dataset = dataset[['reviews','stars']]"
   ]
  },
  {
   "cell_type": "code",
   "execution_count": 6,
   "metadata": {},
   "outputs": [],
   "source": [
    "#Review Ratings Distribution:\n",
    "data = dataset['stars'].value_counts()\n"
   ]
  },
  {
   "cell_type": "code",
   "execution_count": 7,
   "metadata": {},
   "outputs": [
    {
     "data": {
      "text/plain": [
       "<AxesSubplot:>"
      ]
     },
     "execution_count": 7,
     "metadata": {},
     "output_type": "execute_result"
    },
    {
     "data": {
      "image/png": "[encoded data removed]",
      "text/plain": [
       "<Figure size 432x288 with 1 Axes>"
      ]
     },
     "metadata": {
      "needs_background": "light"
     },
     "output_type": "display_data"
    }
   ],
   "source": [
    "sns.barplot(x=data.index, y=data.values)"
   ]
  },
  {
   "cell_type": "code",
   "execution_count": 14,
   "metadata": {},
   "outputs": [],
   "source": [
    "text = \"\"\n",
    "for i in dataset.reviews:\n",
    "    text += i\n",
    "#print(text)"
   ]
  },
  {
   "cell_type": "code",
   "execution_count": 15,
   "metadata": {},
   "outputs": [
    {
     "name": "stdout",
     "output_type": "stream",
     "text": [
      "{'or', 'your', 'here', 'isn', \"mustn't\", \"that'll\", 'you', 'in', 'myself', 'such', 'own', \"you've\", 'nor', 'couldn', \"you're\", 'ours', 'we', 'each', 'being', 't', 'did', 'once', 'will', 'both', 'were', 'are', 'an', 'o', 'who', 'then', 'all', 'am', 'was', 'wasn', 'themselves', 'herself', 'more', 'aren', 'whom', 'off', 'under', 'which', 'to', 'and', 'again', 'other', \"it's\", \"you'd\", 'him', 'have', 'm', 'be', 'too', 'out', 'y', 'until', \"weren't\", 'very', 'these', 'should', 'they', 'further', 're', \"couldn't\", 'i', 'over', 'through', 'is', 'that', \"doesn't\", 'when', 'against', 'after', 'yourselves', 'hasn', 'what', 'himself', 'ourselves', 'hers', 'between', 'her', 'doing', \"needn't\", 'she', 'but', 'with', 'shouldn', \"wasn't\", 'won', 'has', 'now', \"isn't\", 'his', 'its', \"should've\", 'had', 'into', 'there', 'd', 'this', \"you'll\", 'a', 'didn', 'than', 'can', \"don't\", \"hasn't\", 'doesn', 'needn', 'theirs', 'few', 's', 'before', \"shan't\", 'our', 'by', \"mightn't\", 'where', 'above', \"haven't\", 'while', 'from', 'them', 'weren', 'the', 'he', 'does', 'on', \"aren't\", 'mustn', 'of', 'during', 've', 'for', 'itself', 'hadn', 'up', 'don', 'shan', 'down', 'some', 'their', 'do', \"she's\", 'just', \"won't\", 'no', 'so', \"hadn't\", 'it', 'ma', 'me', 'below', 'how', 'any', 'if', 'll', 'haven', 'about', 'wouldn', 'those', 'mightn', \"didn't\", \"wouldn't\", 'ain', 'same', 'having', 'yours', 'yourself', \"shouldn't\", 'at', 'not', 'most', 'my', 'because', 'been', 'only', 'why', 'as'}\n"
     ]
    }
   ],
   "source": [
    "stop_words = set(stopwords.words(\"english\"))\n",
    "print(stop_words)"
   ]
  },
  {
   "cell_type": "code",
   "execution_count": null,
   "metadata": {},
   "outputs": [],
   "source": [
    "from wordcloud import WordCloud\n",
    "\n",
    "wc = WordCloud(background_color=\"black\", max_words=300, stopwords=stop_words, max_font_size=50, random_state=42)\n",
    "\n",
    "\"\"\"Display the wordcloud\"\"\"\n",
    "\n",
    "import matplotlib.pyplot as plt\n",
    "\n",
    "# Generate and display the word cloud\n",
    "\n",
    "plt.figure(figsize= (15,15)) # Figure initialization\n",
    "wc.generate(text) # \"Calculation\" from the wordcloud\n",
    "plt.imshow(wc) # Display\n",
    "plt.show()"
   ]
  },
  {
   "cell_type": "code",
   "execution_count": 19,
   "metadata": {},
   "outputs": [],
   "source": [
    "def text_cleaning(text, remove_stop_words=True, lemmatize_words=True):\n",
    "    # Nettoyer le texte, avec la possibilité de supprimer les stop_words et de lemmatiser le mot\n",
    "    # Nettoyer le texte\n",
    "    text = re.sub(r\"[^A-Za-z0-9]\", \" \", text)\n",
    "    text = re.sub(r\"\\'s\", \" \", text)\n",
    "    text = re.sub(r\"http\\S+\", \" link \", text)\n",
    "    text = re.sub(r\"\\b\\d+(?:\\.\\d+)?\\s+\", \"\", text)  # remove numbers\n",
    "\n",
    "    # Supprimer la ponctuation du texte\n",
    "    text = \"\".join([c for c in text if c not in punctuation])\n",
    "\n",
    "    # Optionnelle, supprimez les mots vides\n",
    "    if remove_stop_words:\n",
    "        text = text.split()\n",
    "        text = [w for w in text if not w in stop_words]\n",
    "        text = \" \".join(text)\n",
    "\n",
    "    # Optionnelle, raccourcir les mots à leurs racine\n",
    "    if lemmatize_words:\n",
    "        text = text.split()\n",
    "        lemmatizer = WordNetLemmatizer()\n",
    "        lemmatized_words = [lemmatizer.lemmatize(word) for word in text]\n",
    "        text = \" \".join(lemmatized_words)\n",
    "\n",
    "    # Return a list of words\n",
    "    return text"
   ]
  },
  {
   "cell_type": "code",
   "execution_count": 20,
   "metadata": {},
   "outputs": [],
   "source": [
    "dataset[\"cleaned_review\"] = dataset[\"reviews\"].apply(text_cleaning)"
   ]
  },
  {
   "cell_type": "code",
   "execution_count": 21,
   "metadata": {},
   "outputs": [],
   "source": [
    "train_data = dataset[\"cleaned_review\"]\n",
    "\n",
    "y_target = dataset[\"stars\"].map(\n",
    "    {1: \"Unhappy\", 2: \"Unhappy\", 3: \"Happy\", 4: \"Happy\", 5: \"Happy\"}\n",
    ")\n",
    "\n",
    "\n",
    "X_train, X_test, y_train, y_test = train_test_split(train_data, y_target, test_size=0.2)"
   ]
  },
  {
   "cell_type": "code",
   "execution_count": 22,
   "metadata": {},
   "outputs": [],
   "source": [
    "from sklearn.feature_extraction.text import CountVectorizer\n",
    "\n",
    "vectorizer = CountVectorizer()\n",
    "\n",
    "X_train = vectorizer.fit_transform(X_train).todense()\n",
    "X_test = vectorizer.transform(X_test).todense()"
   ]
  },
  {
   "cell_type": "code",
   "execution_count": 23,
   "metadata": {},
   "outputs": [
    {
     "name": "stderr",
     "output_type": "stream",
     "text": [
      "C:\\Users\\Ali\\anaconda3\\lib\\site-packages\\sklearn\\utils\\validation.py:593: FutureWarning: np.matrix usage is deprecated in 1.0 and will raise a TypeError in 1.2. Please convert to a numpy array with np.asarray. For more information see: https://numpy.org/doc/stable/reference/generated/numpy.matrix.html\n",
      "  warnings.warn(\n",
      "C:\\Users\\Ali\\anaconda3\\lib\\site-packages\\sklearn\\utils\\validation.py:593: FutureWarning: np.matrix usage is deprecated in 1.0 and will raise a TypeError in 1.2. Please convert to a numpy array with np.asarray. For more information see: https://numpy.org/doc/stable/reference/generated/numpy.matrix.html\n",
      "  warnings.warn(\n"
     ]
    }
   ],
   "source": [
    "clf = GradientBoostingClassifier(\n",
    "    n_estimators=100, random_state=44\n",
    ").fit(X_train, y_train)\n",
    "\n",
    "y_pred = clf.predict(X_test)"
   ]
  },
  {
   "cell_type": "code",
   "execution_count": 24,
   "metadata": {},
   "outputs": [
    {
     "name": "stdout",
     "output_type": "stream",
     "text": [
      "              precision    recall  f1-score   support\n",
      "\n",
      "       Happy       0.93      0.99      0.96      2128\n",
      "     Unhappy       0.45      0.13      0.21       180\n",
      "\n",
      "    accuracy                           0.92      2308\n",
      "   macro avg       0.69      0.56      0.58      2308\n",
      "weighted avg       0.89      0.92      0.90      2308\n",
      "\n"
     ]
    }
   ],
   "source": [
    "from sklearn.metrics import classification_report\n",
    "\n",
    "print(classification_report(y_test, y_pred))\n"
   ]
  },
  {
   "cell_type": "code",
   "execution_count": 25,
   "metadata": {},
   "outputs": [
    {
     "name": "stdout",
     "output_type": "stream",
     "text": [
      "Accuracy Train: 0.919844020797227\n"
     ]
    }
   ],
   "source": [
    "print(\"Accuracy Train: {}\".format(accuracy_score(y_test,y_pred )))"
   ]
  },
  {
   "cell_type": "code",
   "execution_count": 26,
   "metadata": {},
   "outputs": [
    {
     "data": {
      "image/png": "[encoded data removed]",
      "text/plain": [
       "<Figure size 432x288 with 2 Axes>"
      ]
     },
     "metadata": {
      "needs_background": "light"
     },
     "output_type": "display_data"
    }
   ],
   "source": [
    "import scikitplot as skplt\n",
    "skplt.metrics.plot_confusion_matrix(y_test, y_pred, normalize=True)\n",
    "plt.show()\n"
   ]
  },
  {
   "cell_type": "code",
   "execution_count": 27,
   "metadata": {},
   "outputs": [
    {
     "data": {
      "text/html": [
       "<div>\n",
       "<style scoped>\n",
       "    .dataframe tbody tr th:only-of-type {\n",
       "        vertical-align: middle;\n",
       "    }\n",
       "\n",
       "    .dataframe tbody tr th {\n",
       "        vertical-align: top;\n",
       "    }\n",
       "\n",
       "    .dataframe thead th {\n",
       "        text-align: right;\n",
       "    }\n",
       "</style>\n",
       "<table border=\"1\" class=\"dataframe\">\n",
       "  <thead>\n",
       "    <tr style=\"text-align: right;\">\n",
       "      <th>Predicted Class</th>\n",
       "      <th>Happy</th>\n",
       "      <th>Unhappy</th>\n",
       "    </tr>\n",
       "    <tr>\n",
       "      <th>Real Class</th>\n",
       "      <th></th>\n",
       "      <th></th>\n",
       "    </tr>\n",
       "  </thead>\n",
       "  <tbody>\n",
       "    <tr>\n",
       "      <th>Happy</th>\n",
       "      <td>2099</td>\n",
       "      <td>29</td>\n",
       "    </tr>\n",
       "    <tr>\n",
       "      <th>Unhappy</th>\n",
       "      <td>156</td>\n",
       "      <td>24</td>\n",
       "    </tr>\n",
       "  </tbody>\n",
       "</table>\n",
       "</div>"
      ],
      "text/plain": [
       "Predicted Class  Happy  Unhappy\n",
       "Real Class                     \n",
       "Happy             2099       29\n",
       "Unhappy            156       24"
      ]
     },
     "execution_count": 27,
     "metadata": {},
     "output_type": "execute_result"
    }
   ],
   "source": [
    "confusion_matrix = pd.crosstab(\n",
    "    y_test, y_pred, rownames=[\"Real Class\"], colnames=[\"Predicted Class\"]\n",
    ")\n",
    "confusion_matrix"
   ]
  },
  {
   "cell_type": "code",
   "execution_count": null,
   "metadata": {},
   "outputs": [],
   "source": [
    "import joblib\n",
    "\n",
    "joblib.dump(clf, \"data/sentiment_model_pipeline.pkl\")"
   ]
  }
 ],
 "metadata": {
  "kernelspec": {
   "display_name": "Python 3 (ipykernel)",
   "language": "python",
   "name": "python3"
  },
  "language_info": {
   "codemirror_mode": {
    "name": "ipython",
    "version": 3
   },
   "file_extension": ".py",
   "mimetype": "text/x-python",
   "name": "python",
   "nbconvert_exporter": "python",
   "pygments_lexer": "ipython3",
   "version": "3.9.12"
  }
 },
 "nbformat": 4,
 "nbformat_minor": 4
}
